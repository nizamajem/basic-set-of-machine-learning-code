{
  "nbformat": 4,
  "nbformat_minor": 0,
  "metadata": {
    "colab": {
      "name": "Binary Text Classification.ipynb",
      "provenance": [],
      "collapsed_sections": []
    },
    "kernelspec": {
      "name": "python3",
      "display_name": "Python 3"
    },
    "language_info": {
      "name": "python"
    }
  },
  "cells": [
    {
      "cell_type": "code",
      "execution_count": null,
      "metadata": {
        "id": "gCONp5nUi6va"
      },
      "outputs": [],
      "source": [
        "import pandas as pd\n",
        "df = pd.read_csv('yelp_labelled.txt', names=['sentence', 'label'], sep='\\t')"
      ]
    },
    {
      "cell_type": "code",
      "source": [
        "from sklearn.model_selection import train_test_split\n",
        "kalimat = df['sentence'].values\n",
        "y = df['label'].values\n",
        "kalimat_latih, kalimat_test, y_latih, y_test = train_test_split(kalimat, y, test_size=0.2)"
      ],
      "metadata": {
        "id": "SY2fPzzDjh18"
      },
      "execution_count": null,
      "outputs": []
    },
    {
      "cell_type": "code",
      "source": [
        "from tensorflow.keras.preprocessing.text import Tokenizer\n",
        "from tensorflow.keras.preprocessing.sequence import pad_sequences\n",
        " \n",
        "tokenizer = Tokenizer(num_words=250, oov_token='x')\n",
        "tokenizer.fit_on_texts(kalimat_latih) \n",
        "tokenizer.fit_on_texts(kalimat_test)\n",
        " \n",
        "sekuens_latih = tokenizer.texts_to_sequences(kalimat_latih)\n",
        "sekuens_test = tokenizer.texts_to_sequences(kalimat_test)\n",
        " \n",
        "padded_latih = pad_sequences(sekuens_latih) \n",
        "padded_test = pad_sequences(sekuens_test)"
      ],
      "metadata": {
        "id": "W-ea9Y0IkYnc"
      },
      "execution_count": null,
      "outputs": []
    },
    {
      "cell_type": "code",
      "source": [
        "import tensorflow as tf\n",
        "model = tf.keras.Sequential([\n",
        "    tf.keras.layers.Embedding(input_dim=5000, output_dim=16),\n",
        "    tf.keras.layers.GlobalAveragePooling1D(),\n",
        "    tf.keras.layers.Dense(24, activation='relu'),\n",
        "    tf.keras.layers.Dense(1, activation='softmax')\n",
        "])\n",
        "model.compile(loss='binary_crossentropy',optimizer='adam',metrics=['accuracy'])"
      ],
      "metadata": {
        "id": "5ts9jCi3lvEv"
      },
      "execution_count": null,
      "outputs": []
    },
    {
      "cell_type": "code",
      "source": [
        "\n",
        "history = model.fit(padded_latih, y_latih, epochs=30, \n",
        "                    validation_data=(padded_test, y_test), verbose=2)"
      ],
      "metadata": {
        "colab": {
          "base_uri": "https://localhost:8080/"
        },
        "id": "Fr3NGTwqpDx5",
        "outputId": "e95800f0-9faf-43e0-c123-8d5897412ac7"
      },
      "execution_count": null,
      "outputs": [
        {
          "output_type": "stream",
          "name": "stdout",
          "text": [
            "Epoch 1/30\n",
            "25/25 - 1s - loss: 0.6932 - accuracy: 0.5063 - val_loss: 0.6915 - val_accuracy: 0.4750 - 541ms/epoch - 22ms/step\n",
            "Epoch 2/30\n",
            "25/25 - 0s - loss: 0.6909 - accuracy: 0.5063 - val_loss: 0.6901 - val_accuracy: 0.4750 - 70ms/epoch - 3ms/step\n",
            "Epoch 3/30\n",
            "25/25 - 0s - loss: 0.6885 - accuracy: 0.5063 - val_loss: 0.6874 - val_accuracy: 0.4750 - 78ms/epoch - 3ms/step\n",
            "Epoch 4/30\n",
            "25/25 - 0s - loss: 0.6851 - accuracy: 0.5063 - val_loss: 0.6837 - val_accuracy: 0.4750 - 66ms/epoch - 3ms/step\n",
            "Epoch 5/30\n",
            "25/25 - 0s - loss: 0.6801 - accuracy: 0.5063 - val_loss: 0.6783 - val_accuracy: 0.4750 - 94ms/epoch - 4ms/step\n",
            "Epoch 6/30\n",
            "25/25 - 0s - loss: 0.6735 - accuracy: 0.5063 - val_loss: 0.6710 - val_accuracy: 0.4750 - 70ms/epoch - 3ms/step\n",
            "Epoch 7/30\n",
            "25/25 - 0s - loss: 0.6624 - accuracy: 0.5063 - val_loss: 0.6620 - val_accuracy: 0.4750 - 82ms/epoch - 3ms/step\n",
            "Epoch 8/30\n",
            "25/25 - 0s - loss: 0.6462 - accuracy: 0.5063 - val_loss: 0.6471 - val_accuracy: 0.4750 - 87ms/epoch - 3ms/step\n",
            "Epoch 9/30\n",
            "25/25 - 0s - loss: 0.6256 - accuracy: 0.5063 - val_loss: 0.6301 - val_accuracy: 0.4750 - 79ms/epoch - 3ms/step\n",
            "Epoch 10/30\n",
            "25/25 - 0s - loss: 0.6034 - accuracy: 0.5063 - val_loss: 0.6158 - val_accuracy: 0.4750 - 77ms/epoch - 3ms/step\n",
            "Epoch 11/30\n",
            "25/25 - 0s - loss: 0.5790 - accuracy: 0.5063 - val_loss: 0.5944 - val_accuracy: 0.4750 - 78ms/epoch - 3ms/step\n",
            "Epoch 12/30\n",
            "25/25 - 0s - loss: 0.5482 - accuracy: 0.5063 - val_loss: 0.5717 - val_accuracy: 0.4750 - 84ms/epoch - 3ms/step\n",
            "Epoch 13/30\n",
            "25/25 - 0s - loss: 0.5221 - accuracy: 0.5063 - val_loss: 0.5537 - val_accuracy: 0.4750 - 66ms/epoch - 3ms/step\n",
            "Epoch 14/30\n",
            "25/25 - 0s - loss: 0.4924 - accuracy: 0.5063 - val_loss: 0.5400 - val_accuracy: 0.4750 - 70ms/epoch - 3ms/step\n",
            "Epoch 15/30\n",
            "25/25 - 0s - loss: 0.4707 - accuracy: 0.5063 - val_loss: 0.5255 - val_accuracy: 0.4750 - 64ms/epoch - 3ms/step\n",
            "Epoch 16/30\n",
            "25/25 - 0s - loss: 0.4466 - accuracy: 0.5063 - val_loss: 0.5139 - val_accuracy: 0.4750 - 68ms/epoch - 3ms/step\n",
            "Epoch 17/30\n",
            "25/25 - 0s - loss: 0.4240 - accuracy: 0.5063 - val_loss: 0.5170 - val_accuracy: 0.4750 - 73ms/epoch - 3ms/step\n",
            "Epoch 18/30\n",
            "25/25 - 0s - loss: 0.4052 - accuracy: 0.5063 - val_loss: 0.4971 - val_accuracy: 0.4750 - 68ms/epoch - 3ms/step\n",
            "Epoch 19/30\n",
            "25/25 - 0s - loss: 0.3868 - accuracy: 0.5063 - val_loss: 0.4916 - val_accuracy: 0.4750 - 64ms/epoch - 3ms/step\n",
            "Epoch 20/30\n",
            "25/25 - 0s - loss: 0.3718 - accuracy: 0.5063 - val_loss: 0.4991 - val_accuracy: 0.4750 - 72ms/epoch - 3ms/step\n",
            "Epoch 21/30\n",
            "25/25 - 0s - loss: 0.3581 - accuracy: 0.5063 - val_loss: 0.4886 - val_accuracy: 0.4750 - 72ms/epoch - 3ms/step\n",
            "Epoch 22/30\n",
            "25/25 - 0s - loss: 0.3449 - accuracy: 0.5063 - val_loss: 0.4901 - val_accuracy: 0.4750 - 65ms/epoch - 3ms/step\n",
            "Epoch 23/30\n",
            "25/25 - 0s - loss: 0.3351 - accuracy: 0.5063 - val_loss: 0.4970 - val_accuracy: 0.4750 - 75ms/epoch - 3ms/step\n",
            "Epoch 24/30\n",
            "25/25 - 0s - loss: 0.3248 - accuracy: 0.5063 - val_loss: 0.4883 - val_accuracy: 0.4750 - 76ms/epoch - 3ms/step\n",
            "Epoch 25/30\n",
            "25/25 - 0s - loss: 0.3178 - accuracy: 0.5063 - val_loss: 0.4961 - val_accuracy: 0.4750 - 70ms/epoch - 3ms/step\n",
            "Epoch 26/30\n",
            "25/25 - 0s - loss: 0.3088 - accuracy: 0.5063 - val_loss: 0.4932 - val_accuracy: 0.4750 - 70ms/epoch - 3ms/step\n",
            "Epoch 27/30\n",
            "25/25 - 0s - loss: 0.3017 - accuracy: 0.5063 - val_loss: 0.5110 - val_accuracy: 0.4750 - 81ms/epoch - 3ms/step\n",
            "Epoch 28/30\n",
            "25/25 - 0s - loss: 0.2936 - accuracy: 0.5063 - val_loss: 0.5059 - val_accuracy: 0.4750 - 76ms/epoch - 3ms/step\n",
            "Epoch 29/30\n",
            "25/25 - 0s - loss: 0.2870 - accuracy: 0.5063 - val_loss: 0.5159 - val_accuracy: 0.4750 - 80ms/epoch - 3ms/step\n",
            "Epoch 30/30\n",
            "25/25 - 0s - loss: 0.2801 - accuracy: 0.5063 - val_loss: 0.5133 - val_accuracy: 0.4750 - 75ms/epoch - 3ms/step\n"
          ]
        }
      ]
    },
    {
      "cell_type": "code",
      "source": [
        ""
      ],
      "metadata": {
        "id": "ttVa1hfdrc0l"
      },
      "execution_count": null,
      "outputs": []
    }
  ]
}